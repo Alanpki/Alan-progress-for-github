{
 "cells": [
  {
   "cell_type": "code",
   "execution_count": 21,
   "id": "5b1bcedd",
   "metadata": {},
   "outputs": [
    {
     "name": "stdout",
     "output_type": "stream",
     "text": [
      "轉換語音檔成文字:\n",
      "好好好這個畫面就國外最新科技噴射背包也出現在台灣了嗎這是我們都在台中拍照顧統一是有一個整形物體的穿著不明的裝置換那個在空中飛行我們的實際走到了拍攝地點是在台中北區的崇德路上附近大樓裡面有名的影片覺得好危險啊大學飛行系的教授就說我民航局其實沒有開放所以噴射背包的飛行也不會發放駕駛執照如果真的是噴射背包玩家那絕對位法真的真的真的拍到空中有一個疑似人形的物體穿的不明裝置在空中緩慢飛行模式在台中鋼鐵人他指的是國外這一種新科技叫做噴射背包地點就是在台中北區崇德路口到這裡大樓裡面而且非常的多如果正向影片講的是人非的噴射背包飛行\n"
     ]
    },
    {
     "data": {
      "text/plain": [
       "260"
      ]
     },
     "execution_count": 21,
     "metadata": {},
     "output_type": "execute_result"
    }
   ],
   "source": [
    "import speech_recognition\n",
    "import re\n",
    "import time\n",
    "import os\n",
    "import pyaudio\n",
    "import wave\n",
    "def Play_Voice(AUDIO_FILE_NAME):\n",
    "    CHUNK=1024\n",
    "    #開啟聲音檔案\n",
    "    File =wave.open(AUDIO_FILE_NAME,\"rb\")\n",
    "    #導入PyAudio\n",
    "    p=pyaudio.PyAudio()\n",
    "    #開啟串流 open stream\n",
    "    stream=p.open(format=p.get_format_from_width(File.getsampwidth()),\n",
    "                 channels=File.getnchannels(),\n",
    "                  rate=File.getframerate(),\n",
    "                  output=True)\n",
    "    #讀取音源黨\n",
    "    data=File.readframes(CHUNK)\n",
    "    #播放音源檔\n",
    "    while data:\n",
    "        stream.write(data)\n",
    "        data=File.readframes(CHUNK)\n",
    "    #停止音源檔\n",
    "    stream.stop_stream()\n",
    "    stream.close()\n",
    "    #關閉PyAudio\n",
    "    p.terminate()\n",
    "    \n",
    "def AudioFile_To_Text(AUDIO_FILE_NAME):\n",
    "    r=speech_recognition.Recognizer()\n",
    "    with speech_recognition.AudioFile(AUDIO_FILE_NAME) as source:\n",
    "        r.adjust_for_ambient_noise(source,duration=0)\n",
    "        audio=r.record(source)#英文語音檔案\n",
    "    Text=r.recognize_google(audio,language=\"zh-TW\") #中文語音檔案\n",
    "#     Text=r.recognize_google(audio,language='en-US')\n",
    "    return Text\n",
    "\n",
    "def Voice_To_Text():\n",
    "    r=speech_recognition.Recognizer()\n",
    "    with speech_recognition.Microphone() as source:\n",
    "        print(\"請開始說話:\")\n",
    "# 函數調整麥克風嗓音:\n",
    "        r.adjust_for_ambient_noise(source)\n",
    "        audio=r.listen(source)\n",
    "    try:\n",
    "        Text=r.recognize_google(audio,language='zh-TW')\n",
    "    except r.r.UnknownValueError:\n",
    "        Text=\"無法翻譯\"\n",
    "    except sr.RequestError as e:\n",
    "        Text=\"無法翻譯(0)\".format(e)\n",
    "    return Text\n",
    "\n",
    "#設定文字檔儲存路徑\n",
    "outfile='C:/Users/Alan/Desktop/自然語言進度/3.Google TTS.STT程式實作/Voice.txt'\n",
    "f1 =open(outfile,'w',encoding='CP950')\n",
    "\n",
    "AUDIO_FILE_NAME=(\"C:/Users/Alan/Desktop/自然語言進度/3.Google TTS.STT程式實作/網路教學/123.wav\")\n",
    "\n",
    "# print('播放語音檔:')\n",
    "# Play_Voice(AUDIO_FILE_NAME)\n",
    "\n",
    "print('轉換語音檔成文字:')\n",
    "Text=AudioFile_To_Text(AUDIO_FILE_NAME)\n",
    "print(Text)\n",
    "f1.write(Text)#將轉換文字檔\n",
    "\n",
    "# print('口語翻譯成文字:')\n",
    "# Text=Voice_To_Text()\n",
    "# print(Text)\n",
    "# f1.write(Text+'\\n')\n",
    "# print('\\n\\n檔案'+outfile+'已存檔')\n",
    "# f1.close()"
   ]
  },
  {
   "cell_type": "code",
   "execution_count": null,
   "id": "e574b564",
   "metadata": {},
   "outputs": [],
   "source": [
    "# 教學網址\n",
    "# https://www.youtube.com/watch?v=3LLksqP2aXE\n",
    "\n",
    "# mp3轉wav檔工具\n",
    "# https://online-audio-converter.com/tw/"
   ]
  },
  {
   "cell_type": "code",
   "execution_count": null,
   "id": "f5252460",
   "metadata": {},
   "outputs": [],
   "source": [
    "#奎彥給的程式碼\n",
    "import speech_recognition as sr\n",
    "# import pyaudio #需要自己安裝 conda install -c anaconda pyaudio\n",
    "r=sr.Recognizer()\n",
    "with sr.Microphone() as source: \n",
    "    #obtain audio from the microphone\n",
    "    print(\"Please wait. Calibrating microphone...\") \n",
    "    #調整周圍噪音, duration>0.5s 錄音時間 listen for 5 seconds and create the ambient noise energy level\n",
    "    r.adjust_for_ambient_noise(source, duration=5)\n",
    "    print(\"Say something!\")\n",
    "    audio=r.listen(source) \n",
    "    text=r.recognize_google(audio,language='zh-TW')\n",
    "try:\n",
    "    print(\"Google Speech Recognition thinks you said:\")\n",
    "    print(text)\n",
    "except sr.UnknownValueError:\n",
    "    print(\"Google Speech Recognition could not understand audio\")\n",
    "except sr.RequestError as e:\n",
    "    print(\"No response from Google Speech Recognition service: {0}\".format(e))\n",
    "f = open('b.txt','w',encoding='utf-8') #解碼 encode 轉換為 UTF-8 編碼\n",
    "f.write(text)\n",
    "f.close()"
   ]
  }
 ],
 "metadata": {
  "kernelspec": {
   "display_name": "Python 3",
   "language": "python",
   "name": "python3"
  },
  "language_info": {
   "codemirror_mode": {
    "name": "ipython",
    "version": 3
   },
   "file_extension": ".py",
   "mimetype": "text/x-python",
   "name": "python",
   "nbconvert_exporter": "python",
   "pygments_lexer": "ipython3",
   "version": "3.7.10"
  }
 },
 "nbformat": 4,
 "nbformat_minor": 5
}
